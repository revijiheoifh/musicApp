{
 "cells": [
  {
   "cell_type": "code",
   "execution_count": 1,
   "metadata": {},
   "outputs": [],
   "source": [
    "# import subprocess\n",
    "import subprocess"
   ]
  },
  {
   "cell_type": "code",
   "execution_count": 2,
   "metadata": {},
   "outputs": [],
   "source": [
    "url=['https://www.youtube.com/watch?v=q-Y0bnx6Ndw']"
   ]
  },
  {
   "cell_type": "code",
   "execution_count": 3,
   "metadata": {},
   "outputs": [
    {
     "name": "stdout",
     "output_type": "stream",
     "text": [
      "error:  \n"
     ]
    }
   ],
   "source": [
    "download = [\n",
    "    'yt-dlp',\n",
    "    '--format', 'bestaudio/best',\n",
    "    '--quiet',\n",
    "    '--no-warnings',\n",
    "    '-o-',\n",
    "    *url\n",
    "]\n",
    "\n",
    "conversion = [\n",
    "    'ffmpeg',\n",
    "    '-i', 'pipe:0',      # Input from stdin\n",
    "    '-f', 'wav',         # Output format WAV\n",
    "    '-acodec', 'pcm_s16le',  # PCM codec (16-bit LE)\n",
    "    '-ar', '44100',      # Sample rate\n",
    "    '-ac', '2',         # Channels (stereo)\n",
    "    '-loglevel','warning',\n",
    "    'pipe:1'             # Output to stdout\n",
    "]\n",
    "\n",
    "downloadAudio = subprocess.Popen(download, stdout=subprocess.PIPE, stderr=subprocess.PIPE)\n",
    "convertToWAV = subprocess.Popen(conversion, stdin=downloadAudio.stdout, stdout=subprocess.PIPE, stderr=subprocess.PIPE)\n",
    "result, error = convertToWAV.communicate()\n",
    "downloadAudio.wait()\n",
    "\n",
    "if downloadAudio.returncode == 0 and convertToWAV == 0:\n",
    "    print(\"this works\\n\")\n",
    "\n",
    "else:\n",
    "    print(\"error: \", error.decode())"
   ]
  },
  {
   "cell_type": "code",
   "execution_count": 4,
   "metadata": {},
   "outputs": [
    {
     "name": "stdout",
     "output_type": "stream",
     "text": [
      "done!\n"
     ]
    }
   ],
   "source": [
    "from io import BytesIO\n",
    "\n",
    "mem_file = BytesIO()\n",
    "\n",
    "mem_file.write(result)\n",
    "\n",
    "print(\"done!\")"
   ]
  },
  {
   "cell_type": "code",
   "execution_count": 5,
   "metadata": {},
   "outputs": [
    {
     "ename": "KeyboardInterrupt",
     "evalue": "",
     "output_type": "error",
     "traceback": [
      "\u001b[1;31m---------------------------------------------------------------------------\u001b[0m",
      "\u001b[1;31mKeyboardInterrupt\u001b[0m                         Traceback (most recent call last)",
      "Cell \u001b[1;32mIn[5], line 8\u001b[0m\n\u001b[0;32m      5\u001b[0m stream \u001b[38;5;241m=\u001b[39m p\u001b[38;5;241m.\u001b[39mopen(\u001b[38;5;28mformat\u001b[39m\u001b[38;5;241m=\u001b[39mpyaudio\u001b[38;5;241m.\u001b[39mpaInt16, channels\u001b[38;5;241m=\u001b[39m\u001b[38;5;241m2\u001b[39m, rate\u001b[38;5;241m=\u001b[39m\u001b[38;5;241m44100\u001b[39m, output\u001b[38;5;241m=\u001b[39m\u001b[38;5;28;01mTrue\u001b[39;00m)\n\u001b[0;32m      7\u001b[0m \u001b[38;5;28;01mwhile\u001b[39;00m(stream\u001b[38;5;241m.\u001b[39mis_active):\n\u001b[1;32m----> 8\u001b[0m     \u001b[43mstream\u001b[49m\u001b[38;5;241;43m.\u001b[39;49m\u001b[43mwrite\u001b[49m\u001b[43m(\u001b[49m\u001b[43mmem_file\u001b[49m\u001b[38;5;241;43m.\u001b[39;49m\u001b[43mgetvalue\u001b[49m\u001b[43m(\u001b[49m\u001b[43m)\u001b[49m\u001b[43m)\u001b[49m\n",
      "File \u001b[1;32m~\\AppData\\Local\\Packages\\PythonSoftwareFoundation.Python.3.11_qbz5n2kfra8p0\\LocalCache\\local-packages\\Python311\\site-packages\\pyaudio\\__init__.py:550\u001b[0m, in \u001b[0;36mPyAudio.Stream.write\u001b[1;34m(self, frames, num_frames, exception_on_underflow)\u001b[0m\n\u001b[0;32m    547\u001b[0m     width \u001b[38;5;241m=\u001b[39m get_sample_size(\u001b[38;5;28mself\u001b[39m\u001b[38;5;241m.\u001b[39m_format)\n\u001b[0;32m    548\u001b[0m     num_frames \u001b[38;5;241m=\u001b[39m \u001b[38;5;28mint\u001b[39m(\u001b[38;5;28mlen\u001b[39m(frames) \u001b[38;5;241m/\u001b[39m (\u001b[38;5;28mself\u001b[39m\u001b[38;5;241m.\u001b[39m_channels \u001b[38;5;241m*\u001b[39m width))\n\u001b[1;32m--> 550\u001b[0m \u001b[43mpa\u001b[49m\u001b[38;5;241;43m.\u001b[39;49m\u001b[43mwrite_stream\u001b[49m\u001b[43m(\u001b[49m\u001b[38;5;28;43mself\u001b[39;49m\u001b[38;5;241;43m.\u001b[39;49m\u001b[43m_stream\u001b[49m\u001b[43m,\u001b[49m\u001b[43m \u001b[49m\u001b[43mframes\u001b[49m\u001b[43m,\u001b[49m\u001b[43m \u001b[49m\u001b[43mnum_frames\u001b[49m\u001b[43m,\u001b[49m\n\u001b[0;32m    551\u001b[0m \u001b[43m                \u001b[49m\u001b[43mexception_on_underflow\u001b[49m\u001b[43m)\u001b[49m\n",
      "\u001b[1;31mKeyboardInterrupt\u001b[0m: "
     ]
    }
   ],
   "source": [
    "import pyaudio\n",
    "\n",
    "p = pyaudio.PyAudio()\n",
    "\n",
    "stream = p.open(format=pyaudio.paInt16, channels=2, rate=44100, output=True)\n",
    "\n",
    "while(stream.is_active):\n",
    "    stream.write(mem_file.getvalue())"
   ]
  },
  {
   "cell_type": "code",
   "execution_count": 6,
   "metadata": {},
   "outputs": [],
   "source": [
    "stream.close()\n",
    "p.terminate()"
   ]
  }
 ],
 "metadata": {
  "kernelspec": {
   "display_name": "Python 3",
   "language": "python",
   "name": "python3"
  },
  "language_info": {
   "codemirror_mode": {
    "name": "ipython",
    "version": 3
   },
   "file_extension": ".py",
   "mimetype": "text/x-python",
   "name": "python",
   "nbconvert_exporter": "python",
   "pygments_lexer": "ipython3",
   "version": "3.11.9"
  }
 },
 "nbformat": 4,
 "nbformat_minor": 2
}
